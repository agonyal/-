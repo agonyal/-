{
 "cells": [
  {
   "cell_type": "code",
   "execution_count": 1,
   "metadata": {},
   "outputs": [],
   "source": [
    "import pandas as pd\n",
    "import numpy as np\n",
    "import sklearn \n",
    "import matplotlib.pyplot as plt\n",
    "import seaborn as sns\n",
    "import openpyxl\n",
    "import plotly.express as px\n",
    "from datetime import date\n",
    "\n",
    "from matplotlib import colors\n",
    "from seaborn import color_palette"
   ]
  },
  {
   "cell_type": "code",
   "execution_count": 3,
   "metadata": {},
   "outputs": [],
   "source": [
    "data = pd.read_csv('purchase_table.csv', encoding='utf-8')"
   ]
  },
  {
   "cell_type": "code",
   "execution_count": 4,
   "metadata": {},
   "outputs": [],
   "source": [
    "data['birth_dt'] = pd.to_datetime(data['birth_dt'])\n",
    "data['purchase_dt'] = pd.to_datetime(data['purchase_dt'])\n",
    "data['reg_dttm'] = pd.to_datetime(data['reg_dttm'])"
   ]
  },
  {
   "cell_type": "code",
   "execution_count": 5,
   "metadata": {},
   "outputs": [],
   "source": [
    "data['reg_date'] = data['reg_dttm'].dt.date"
   ]
  },
  {
   "cell_type": "code",
   "execution_count": 6,
   "metadata": {},
   "outputs": [
    {
     "name": "stdout",
     "output_type": "stream",
     "text": [
      "<class 'pandas.core.frame.DataFrame'>\n",
      "RangeIndex: 2377 entries, 0 to 2376\n",
      "Data columns (total 7 columns):\n",
      " #   Column        Non-Null Count  Dtype         \n",
      "---  ------        --------------  -----         \n",
      " 0   client_id     2377 non-null   int64         \n",
      " 1   birth_dt      2377 non-null   datetime64[ns]\n",
      " 2   reg_dttm      2377 non-null   datetime64[ns]\n",
      " 3   purchase_id   1239 non-null   float64       \n",
      " 4   purchase_dt   1239 non-null   datetime64[ns]\n",
      " 5   purchase_amt  1239 non-null   float64       \n",
      " 6   reg_date      2377 non-null   object        \n",
      "dtypes: datetime64[ns](3), float64(2), int64(1), object(1)\n",
      "memory usage: 120.8+ KB\n"
     ]
    }
   ],
   "source": [
    "data.info()"
   ]
  },
  {
   "cell_type": "code",
   "execution_count": 7,
   "metadata": {},
   "outputs": [
    {
     "data": {
      "text/html": [
       "<div>\n",
       "<style scoped>\n",
       "    .dataframe tbody tr th:only-of-type {\n",
       "        vertical-align: middle;\n",
       "    }\n",
       "\n",
       "    .dataframe tbody tr th {\n",
       "        vertical-align: top;\n",
       "    }\n",
       "\n",
       "    .dataframe thead th {\n",
       "        text-align: right;\n",
       "    }\n",
       "</style>\n",
       "<table border=\"1\" class=\"dataframe\">\n",
       "  <thead>\n",
       "    <tr style=\"text-align: right;\">\n",
       "      <th></th>\n",
       "      <th>client_id</th>\n",
       "      <th>birth_dt</th>\n",
       "      <th>reg_dttm</th>\n",
       "      <th>purchase_id</th>\n",
       "      <th>purchase_dt</th>\n",
       "      <th>purchase_amt</th>\n",
       "      <th>reg_date</th>\n",
       "    </tr>\n",
       "  </thead>\n",
       "  <tbody>\n",
       "    <tr>\n",
       "      <th>0</th>\n",
       "      <td>820519</td>\n",
       "      <td>1990-05-10</td>\n",
       "      <td>2019-01-02 12:49:39</td>\n",
       "      <td>NaN</td>\n",
       "      <td>NaT</td>\n",
       "      <td>NaN</td>\n",
       "      <td>2019-01-02</td>\n",
       "    </tr>\n",
       "    <tr>\n",
       "      <th>1</th>\n",
       "      <td>820521</td>\n",
       "      <td>1970-03-23</td>\n",
       "      <td>2019-01-02 14:14:39</td>\n",
       "      <td>NaN</td>\n",
       "      <td>NaT</td>\n",
       "      <td>NaN</td>\n",
       "      <td>2019-01-02</td>\n",
       "    </tr>\n",
       "    <tr>\n",
       "      <th>2</th>\n",
       "      <td>820523</td>\n",
       "      <td>1991-04-01</td>\n",
       "      <td>2019-01-02 19:51:19</td>\n",
       "      <td>1.204926e+09</td>\n",
       "      <td>2019-02-12</td>\n",
       "      <td>500.0</td>\n",
       "      <td>2019-01-02</td>\n",
       "    </tr>\n",
       "  </tbody>\n",
       "</table>\n",
       "</div>"
      ],
      "text/plain": [
       "   client_id   birth_dt            reg_dttm   purchase_id purchase_dt  \\\n",
       "0     820519 1990-05-10 2019-01-02 12:49:39           NaN         NaT   \n",
       "1     820521 1970-03-23 2019-01-02 14:14:39           NaN         NaT   \n",
       "2     820523 1991-04-01 2019-01-02 19:51:19  1.204926e+09  2019-02-12   \n",
       "\n",
       "   purchase_amt    reg_date  \n",
       "0           NaN  2019-01-02  \n",
       "1           NaN  2019-01-02  \n",
       "2         500.0  2019-01-02  "
      ]
     },
     "execution_count": 7,
     "metadata": {},
     "output_type": "execute_result"
    }
   ],
   "source": [
    "data.head(3)"
   ]
  },
  {
   "cell_type": "code",
   "execution_count": 8,
   "metadata": {},
   "outputs": [],
   "source": [
    "data['birth_y'] = data['birth_dt'].dt.year\n",
    "data['age'] = date.today().year - data['birth_y']\n",
    "data['age_10'] = ((date.today().year - data['birth_y'])/10).round()*10"
   ]
  },
  {
   "cell_type": "code",
   "execution_count": 9,
   "metadata": {},
   "outputs": [
    {
     "data": {
      "text/html": [
       "<div>\n",
       "<style scoped>\n",
       "    .dataframe tbody tr th:only-of-type {\n",
       "        vertical-align: middle;\n",
       "    }\n",
       "\n",
       "    .dataframe tbody tr th {\n",
       "        vertical-align: top;\n",
       "    }\n",
       "\n",
       "    .dataframe thead th {\n",
       "        text-align: right;\n",
       "    }\n",
       "</style>\n",
       "<table border=\"1\" class=\"dataframe\">\n",
       "  <thead>\n",
       "    <tr style=\"text-align: right;\">\n",
       "      <th></th>\n",
       "      <th>client_id</th>\n",
       "      <th>birth_dt</th>\n",
       "      <th>reg_dttm</th>\n",
       "      <th>purchase_id</th>\n",
       "      <th>purchase_dt</th>\n",
       "      <th>purchase_amt</th>\n",
       "      <th>reg_date</th>\n",
       "      <th>birth_y</th>\n",
       "      <th>age</th>\n",
       "      <th>age_10</th>\n",
       "    </tr>\n",
       "  </thead>\n",
       "  <tbody>\n",
       "    <tr>\n",
       "      <th>0</th>\n",
       "      <td>820519</td>\n",
       "      <td>1990-05-10</td>\n",
       "      <td>2019-01-02 12:49:39</td>\n",
       "      <td>NaN</td>\n",
       "      <td>NaT</td>\n",
       "      <td>NaN</td>\n",
       "      <td>2019-01-02</td>\n",
       "      <td>1990</td>\n",
       "      <td>31</td>\n",
       "      <td>30.0</td>\n",
       "    </tr>\n",
       "    <tr>\n",
       "      <th>1</th>\n",
       "      <td>820521</td>\n",
       "      <td>1970-03-23</td>\n",
       "      <td>2019-01-02 14:14:39</td>\n",
       "      <td>NaN</td>\n",
       "      <td>NaT</td>\n",
       "      <td>NaN</td>\n",
       "      <td>2019-01-02</td>\n",
       "      <td>1970</td>\n",
       "      <td>51</td>\n",
       "      <td>50.0</td>\n",
       "    </tr>\n",
       "    <tr>\n",
       "      <th>2</th>\n",
       "      <td>820523</td>\n",
       "      <td>1991-04-01</td>\n",
       "      <td>2019-01-02 19:51:19</td>\n",
       "      <td>1.204926e+09</td>\n",
       "      <td>2019-02-12</td>\n",
       "      <td>500.0</td>\n",
       "      <td>2019-01-02</td>\n",
       "      <td>1991</td>\n",
       "      <td>30</td>\n",
       "      <td>30.0</td>\n",
       "    </tr>\n",
       "  </tbody>\n",
       "</table>\n",
       "</div>"
      ],
      "text/plain": [
       "   client_id   birth_dt            reg_dttm   purchase_id purchase_dt  \\\n",
       "0     820519 1990-05-10 2019-01-02 12:49:39           NaN         NaT   \n",
       "1     820521 1970-03-23 2019-01-02 14:14:39           NaN         NaT   \n",
       "2     820523 1991-04-01 2019-01-02 19:51:19  1.204926e+09  2019-02-12   \n",
       "\n",
       "   purchase_amt    reg_date  birth_y  age  age_10  \n",
       "0           NaN  2019-01-02     1990   31    30.0  \n",
       "1           NaN  2019-01-02     1970   51    50.0  \n",
       "2         500.0  2019-01-02     1991   30    30.0  "
      ]
     },
     "execution_count": 9,
     "metadata": {},
     "output_type": "execute_result"
    }
   ],
   "source": [
    "data.head(3)"
   ]
  },
  {
   "cell_type": "markdown",
   "metadata": {},
   "source": [
    "#### Задание 1\n",
    "Постройте диаграмму (или график), которая показывает, как менялось множество клиентов по возрасту с течением времени."
   ]
  },
  {
   "cell_type": "code",
   "execution_count": 13,
   "metadata": {},
   "outputs": [
    {
     "name": "stdout",
     "output_type": "stream",
     "text": [
      "6\n"
     ]
    }
   ],
   "source": [
    "age_max = data.age.max()\n",
    "age_min = data.age.min()\n",
    "print(int(((age_max - age_min)/10).round()))"
   ]
  },
  {
   "cell_type": "code",
   "execution_count": 90,
   "metadata": {},
   "outputs": [],
   "source": [
    "pal = sns.color_palette('cubehelix_r')"
   ]
  },
  {
   "cell_type": "code",
   "execution_count": 92,
   "metadata": {},
   "outputs": [
    {
     "data": {
      "image/png": "[encoded data removed]",
      "text/plain": [
       "<Figure size 1008x432 with 1 Axes>"
      ]
     },
     "metadata": {
      "needs_background": "light"
     },
     "output_type": "display_data"
    }
   ],
   "source": [
    "fig, ax = plt.subplots( figsize=(14,6))\n",
    "ax = sns.countplot(x=data['reg_dttm'].dt.week, hue=\"age_10\",palette = pal,\n",
    "                   data=data,saturation=0.85)\n",
    "\n",
    "def change_width(ax, new_value) :\n",
    "    for patch in ax.patches :\n",
    "        current_width = patch.get_width()\n",
    "        diff = current_width - new_value\n",
    "\n",
    "        # we change the bar width\n",
    "        patch.set_width(new_value)\n",
    "\n",
    "        # we recenter the bar\n",
    "        patch.set_x(patch.get_x() + diff * .05)\n",
    "        \n",
    "change_width(ax, .3)\n",
    "plt.tight_layout()\n",
    "\n",
    "plt.xlabel('Номер недели с 02.01.2019 по 05.04.2019',fontsize='x-large')\n",
    "plt.ylabel('Количество клиентов',fontsize='x-large')\n",
    "plt.title('Изменение количества клиентов по возрасту с течением времени')\n",
    "\n",
    "plt.legend( ('Младше 29', 'От 30 до 39','От 40 до 49', 'От 50 до 59', 'От 60 до 69', 'От 70 до 79', 'Старше 80' ), \n",
    "           fancybox=True,loc=(0.02, 0.61), handlelength=1.5, title='Возрастная группа')\n",
    "\n",
    "plt.savefig('task1.jpg')"
   ]
  },
  {
   "cell_type": "markdown",
   "metadata": {},
   "source": [
    "sns.displot(data=data, x=data['reg_dttm'].dt.week, hue=\"age_10\", multiple=\"stack\")"
   ]
  },
  {
   "cell_type": "markdown",
   "metadata": {},
   "source": [
    "#### Задание 2\n",
    "Рассматриваем следующий процесс: заявители регистрируются на сайте Тинькофф Квест, где указывают свой возраст. Всех зарегистрированных называем клиентами.\n",
    "\n",
    "\n",
    "В дальнейшем кто-то из них совершает с созданного аккаунта покупки сертификатов на квест. Будем называть это утилизацией. Число дней от регистрации на сайте до первой покупки будем называть скоростью утилизации.\n",
    "\n",
    "Постройте диаграмму (или график), которая показывает, как по возрастным сегментам отличается конверсия в утилизацию."
   ]
  },
  {
   "cell_type": "code",
   "execution_count": 96,
   "metadata": {},
   "outputs": [
    {
     "data": {
      "text/html": [
       "<div>\n",
       "<style scoped>\n",
       "    .dataframe tbody tr th:only-of-type {\n",
       "        vertical-align: middle;\n",
       "    }\n",
       "\n",
       "    .dataframe tbody tr th {\n",
       "        vertical-align: top;\n",
       "    }\n",
       "\n",
       "    .dataframe thead th {\n",
       "        text-align: right;\n",
       "    }\n",
       "</style>\n",
       "<table border=\"1\" class=\"dataframe\">\n",
       "  <thead>\n",
       "    <tr style=\"text-align: right;\">\n",
       "      <th></th>\n",
       "      <th>client_id</th>\n",
       "      <th>birth_dt</th>\n",
       "      <th>reg_dttm</th>\n",
       "      <th>purchase_id</th>\n",
       "      <th>purchase_dt</th>\n",
       "      <th>purchase_amt</th>\n",
       "      <th>reg_date</th>\n",
       "      <th>birth_y</th>\n",
       "      <th>age</th>\n",
       "      <th>age_10</th>\n",
       "    </tr>\n",
       "  </thead>\n",
       "  <tbody>\n",
       "    <tr>\n",
       "      <th>2</th>\n",
       "      <td>820523</td>\n",
       "      <td>1991-04-01</td>\n",
       "      <td>2019-01-02 19:51:19</td>\n",
       "      <td>1.204926e+09</td>\n",
       "      <td>2019-02-12</td>\n",
       "      <td>500.0</td>\n",
       "      <td>2019-01-02</td>\n",
       "      <td>1991</td>\n",
       "      <td>30</td>\n",
       "      <td>30.0</td>\n",
       "    </tr>\n",
       "    <tr>\n",
       "      <th>6</th>\n",
       "      <td>820561</td>\n",
       "      <td>1993-10-22</td>\n",
       "      <td>2019-01-04 14:39:43</td>\n",
       "      <td>1.205778e+09</td>\n",
       "      <td>2019-02-13</td>\n",
       "      <td>500.0</td>\n",
       "      <td>2019-01-04</td>\n",
       "      <td>1993</td>\n",
       "      <td>28</td>\n",
       "      <td>30.0</td>\n",
       "    </tr>\n",
       "    <tr>\n",
       "      <th>12</th>\n",
       "      <td>820607</td>\n",
       "      <td>1970-09-27</td>\n",
       "      <td>2019-01-05 07:54:45</td>\n",
       "      <td>1.223152e+09</td>\n",
       "      <td>2019-02-21</td>\n",
       "      <td>5000.0</td>\n",
       "      <td>2019-01-05</td>\n",
       "      <td>1970</td>\n",
       "      <td>51</td>\n",
       "      <td>50.0</td>\n",
       "    </tr>\n",
       "  </tbody>\n",
       "</table>\n",
       "</div>"
      ],
      "text/plain": [
       "    client_id   birth_dt            reg_dttm   purchase_id purchase_dt  \\\n",
       "2      820523 1991-04-01 2019-01-02 19:51:19  1.204926e+09  2019-02-12   \n",
       "6      820561 1993-10-22 2019-01-04 14:39:43  1.205778e+09  2019-02-13   \n",
       "12     820607 1970-09-27 2019-01-05 07:54:45  1.223152e+09  2019-02-21   \n",
       "\n",
       "    purchase_amt    reg_date  birth_y  age  age_10  \n",
       "2          500.0  2019-01-02     1991   30    30.0  \n",
       "6          500.0  2019-01-04     1993   28    30.0  \n",
       "12        5000.0  2019-01-05     1970   51    50.0  "
      ]
     },
     "execution_count": 96,
     "metadata": {},
     "output_type": "execute_result"
    }
   ],
   "source": [
    "data.head(3)"
   ]
  },
  {
   "cell_type": "code",
   "execution_count": 95,
   "metadata": {},
   "outputs": [],
   "source": [
    "data = data.dropna()"
   ]
  },
  {
   "cell_type": "code",
   "execution_count": 103,
   "metadata": {},
   "outputs": [],
   "source": [
    "data['util_vel'] = (data['purchase_dt'].dt.date  - data['reg_date']  ).dt.days"
   ]
  },
  {
   "cell_type": "code",
   "execution_count": 115,
   "metadata": {},
   "outputs": [],
   "source": [
    "data2 = data.groupby('age_10').mean()"
   ]
  },
  {
   "cell_type": "code",
   "execution_count": 133,
   "metadata": {},
   "outputs": [
    {
     "data": {
      "image/png": "[encoded data removed]",
      "text/plain": [
       "<Figure size 1008x504 with 1 Axes>"
      ]
     },
     "metadata": {
      "needs_background": "light"
     },
     "output_type": "display_data"
    }
   ],
   "source": [
    "fig, ax = plt.subplots( figsize=(14,7))\n",
    "\n",
    "labels = ['Младше 29', 'От 30 до 39','От 40 до 49', 'От 50 до 59', 'От 60 до 69', 'От 70 до 79', 'Старше 80' ]\n",
    "\n",
    "ax = sns.barplot(x ='age_10', y='util_vel', hue_order=labels,palette = pal,ci=None,\n",
    "                   data=data,saturation=0.95)\n",
    "ax.grid(linestyle = '--')\n",
    "# plt.tight_layout()\n",
    "\n",
    "plt.xlabel('Возрасная группа',fontsize='x-large')\n",
    "plt.ylabel('Скорость утилизации',fontsize='x-large')\n",
    "plt.title('Отлисие конверсии в утилизацию по возрастным сегментам')\n",
    "\n",
    "\n",
    "# plt.legend( ('Младше 29', 'От 30 до 39','От 40 до 49', 'От 50 до 59', 'От 60 до 69', 'От 70 до 79', 'Старше 80' ), \n",
    "#            fancybox=True,loc=(0.02, 0.61), handlelength=1.5, title='Возрастная группа')\n",
    "\n",
    "plt.savefig('task2.jpg')"
   ]
  },
  {
   "cell_type": "code",
   "execution_count": 108,
   "metadata": {},
   "outputs": [
    {
     "data": {
      "text/html": [
       "<div>\n",
       "<style scoped>\n",
       "    .dataframe tbody tr th:only-of-type {\n",
       "        vertical-align: middle;\n",
       "    }\n",
       "\n",
       "    .dataframe tbody tr th {\n",
       "        vertical-align: top;\n",
       "    }\n",
       "\n",
       "    .dataframe thead th {\n",
       "        text-align: right;\n",
       "    }\n",
       "</style>\n",
       "<table border=\"1\" class=\"dataframe\">\n",
       "  <thead>\n",
       "    <tr style=\"text-align: right;\">\n",
       "      <th></th>\n",
       "      <th>client_id</th>\n",
       "      <th>purchase_id</th>\n",
       "      <th>purchase_amt</th>\n",
       "      <th>birth_y</th>\n",
       "      <th>age</th>\n",
       "      <th>util_vel</th>\n",
       "    </tr>\n",
       "    <tr>\n",
       "      <th>age_10</th>\n",
       "      <th></th>\n",
       "      <th></th>\n",
       "      <th></th>\n",
       "      <th></th>\n",
       "      <th></th>\n",
       "      <th></th>\n",
       "    </tr>\n",
       "  </thead>\n",
       "  <tbody>\n",
       "    <tr>\n",
       "      <th>20.0</th>\n",
       "      <td>827841.598410</td>\n",
       "      <td>1.249499e+09</td>\n",
       "      <td>3044.731610</td>\n",
       "      <td>1998.367793</td>\n",
       "      <td>22.632207</td>\n",
       "      <td>18.361829</td>\n",
       "    </tr>\n",
       "    <tr>\n",
       "      <th>30.0</th>\n",
       "      <td>827175.596206</td>\n",
       "      <td>1.250193e+09</td>\n",
       "      <td>3059.620596</td>\n",
       "      <td>1991.433604</td>\n",
       "      <td>29.566396</td>\n",
       "      <td>22.555556</td>\n",
       "    </tr>\n",
       "    <tr>\n",
       "      <th>40.0</th>\n",
       "      <td>826669.663636</td>\n",
       "      <td>1.251243e+09</td>\n",
       "      <td>3234.090909</td>\n",
       "      <td>1981.554545</td>\n",
       "      <td>39.445455</td>\n",
       "      <td>25.827273</td>\n",
       "    </tr>\n",
       "    <tr>\n",
       "      <th>50.0</th>\n",
       "      <td>826312.815217</td>\n",
       "      <td>1.246691e+09</td>\n",
       "      <td>3222.826087</td>\n",
       "      <td>1971.130435</td>\n",
       "      <td>49.869565</td>\n",
       "      <td>25.326087</td>\n",
       "    </tr>\n",
       "    <tr>\n",
       "      <th>60.0</th>\n",
       "      <td>826614.705882</td>\n",
       "      <td>1.261665e+09</td>\n",
       "      <td>2921.568627</td>\n",
       "      <td>1962.607843</td>\n",
       "      <td>58.392157</td>\n",
       "      <td>31.941176</td>\n",
       "    </tr>\n",
       "    <tr>\n",
       "      <th>70.0</th>\n",
       "      <td>823280.500000</td>\n",
       "      <td>1.271889e+09</td>\n",
       "      <td>3500.000000</td>\n",
       "      <td>1952.000000</td>\n",
       "      <td>69.000000</td>\n",
       "      <td>56.500000</td>\n",
       "    </tr>\n",
       "  </tbody>\n",
       "</table>\n",
       "</div>"
      ],
      "text/plain": [
       "            client_id   purchase_id  purchase_amt      birth_y        age  \\\n",
       "age_10                                                                      \n",
       "20.0    827841.598410  1.249499e+09   3044.731610  1998.367793  22.632207   \n",
       "30.0    827175.596206  1.250193e+09   3059.620596  1991.433604  29.566396   \n",
       "40.0    826669.663636  1.251243e+09   3234.090909  1981.554545  39.445455   \n",
       "50.0    826312.815217  1.246691e+09   3222.826087  1971.130435  49.869565   \n",
       "60.0    826614.705882  1.261665e+09   2921.568627  1962.607843  58.392157   \n",
       "70.0    823280.500000  1.271889e+09   3500.000000  1952.000000  69.000000   \n",
       "\n",
       "         util_vel  \n",
       "age_10             \n",
       "20.0    18.361829  \n",
       "30.0    22.555556  \n",
       "40.0    25.827273  \n",
       "50.0    25.326087  \n",
       "60.0    31.941176  \n",
       "70.0    56.500000  "
      ]
     },
     "execution_count": 108,
     "metadata": {},
     "output_type": "execute_result"
    }
   ],
   "source": [
    "data.groupby('age_10').mean()"
   ]
  },
  {
   "cell_type": "code",
   "execution_count": null,
   "metadata": {},
   "outputs": [],
   "source": []
  }
 ],
 "metadata": {
  "kernelspec": {
   "display_name": "Python 3",
   "language": "python",
   "name": "python3"
  },
  "language_info": {
   "codemirror_mode": {
    "name": "ipython",
    "version": 3
   },
   "file_extension": ".py",
   "mimetype": "text/x-python",
   "name": "python",
   "nbconvert_exporter": "python",
   "pygments_lexer": "ipython3",
   "version": "3.8.3"
  }
 },
 "nbformat": 4,
 "nbformat_minor": 4
}
